from google.colab import drive
drive.mount('/content/drive')


1. PREPROCESS THE DATASET

import pandas as pd
import numpy as np
import matplotlib.pyplot as plt
import seaborn as sns
from sklearn.model_selection import train_test_split


df=pd.read_csv('/content/drive/MyDrive/House Price India.csv')

df.head()


split the dataset into training and testing sets

# Split the dataset into training and testing sets

X = df.drop(columns=['Price'])
y = df['Price']
X_train, X_test, y_train, y_test = sk.model_selection.train_test_split(X, y, test_size=0.2, random_state=42)





from sklearn.preprocessing import StandardScaler
scaler = StandardScaler()
X_train = scaler.fit_transform(X_train)
X_test = scaler.transform(X_test)

BUILD ANN MODEL

#Build an ANN model
from tensorflow.keras.models import Sequential

model = Sequential()


# Add the input layer
from keras.models import Sequential
from keras.layers import Dense
model = Sequential()

model.add(Dense(units=16, activation='relu', input_dim=X_train.shape[1]))

# Add two hidden layers
model.add(Dense(units=16, activation='relu'))
model.add(Dense(units=8, activation='relu'))

# Add the output layer
model.add(Dense(units=1))
# Compile the model
model.compile(optimizer='adam', loss='mean_squared_error')
# Train the model
model.fit(X_train, y_train, epochs=100, batch_size=32, verbose=0)


# Evaluate the model on the testing set
loss = model.evaluate(X_test, y_test)
print('Mean Squared Error on testing set:', loss)

TEST THE MODEL

y_pred = model.predict(X_test)
